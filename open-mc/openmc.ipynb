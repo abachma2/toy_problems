{
 "cells": [
  {
   "cell_type": "markdown",
   "id": "5c39eb8e",
   "metadata": {},
   "source": [
    "# OpenMC Learning\n",
    "This notebook is for me to learn how to use OpenMC. The first problem is a sphere of radius 20 cm \n",
    "made of U-235 with 10,000 particles to calculate the flux at the surface of the sphere."
   ]
  },
  {
   "cell_type": "code",
   "execution_count": 28,
   "id": "3fd91de9",
   "metadata": {},
   "outputs": [],
   "source": [
    "import numpy as np\n",
    "import matplotlib.pyplot\n",
    "import openmc"
   ]
  },
  {
   "cell_type": "markdown",
   "id": "fad28686",
   "metadata": {},
   "source": [
    "## Problem 1"
   ]
  },
  {
   "cell_type": "code",
   "execution_count": 29,
   "id": "72f610ec",
   "metadata": {},
   "outputs": [],
   "source": [
    "#Add Fe-56\n",
    "materials = openmc.Materials()\n",
    "\n",
    "u235 = openmc.Material()\n",
    "u235.add_nuclide('U235', 1, 'ao')\n",
    "u235.set_density('g/cm3', 19.1)\n",
    "u235.temperature = 900\n",
    "\n",
    "materials.append(u235)"
   ]
  },
  {
   "cell_type": "code",
   "execution_count": 30,
   "id": "41b1b200",
   "metadata": {},
   "outputs": [],
   "source": [
    "# Defining geometry\n",
    "geometry = openmc.Geometry()\n",
    "\n",
    "sphere = openmc.Sphere(r=20)\n",
    "inside_sphere = -sphere\n",
    "outside_sphere = +sphere\n",
    "sphere.boundary_type = 'vacuum'\n",
    "\n",
    "cell1 = openmc.Cell(fill=u235, region=inside_sphere)\n",
    "cell2 = openmc.Cell(region=outside_sphere)\n",
    "universe = openmc.Universe(cells=[cell1, cell2])\n",
    "\n",
    "geometry.root_universe = universe"
   ]
  },
  {
   "cell_type": "code",
   "execution_count": 33,
   "id": "ad6bc65e",
   "metadata": {},
   "outputs": [],
   "source": [
    "settings = openmc.Settings()\n",
    "settings.run_mode = 'eigenvalue'\n",
    "settings.particles = 10000\n",
    "settings.generations_per_batch = 10\n",
    "settings.batches = 100\n",
    "settings.inactive = 5"
   ]
  },
  {
   "cell_type": "code",
   "execution_count": 35,
   "id": "16ee403e",
   "metadata": {},
   "outputs": [],
   "source": [
    "tally = openmc.Tally(1)\n",
    "tally.filters = [openmc.CellFilter(cell1)]\n",
    "tally.scores = ['total']\n",
    "tallies = openmc.Tallies([tally])"
   ]
  },
  {
   "cell_type": "code",
   "execution_count": 36,
   "id": "8125d8ce",
   "metadata": {},
   "outputs": [
    {
     "name": "stdout",
     "output_type": "stream",
     "text": [
      "                                %%%%%%%%%%%%%%%\n",
      "                           %%%%%%%%%%%%%%%%%%%%%%%%\n",
      "                        %%%%%%%%%%%%%%%%%%%%%%%%%%%%%%\n",
      "                      %%%%%%%%%%%%%%%%%%%%%%%%%%%%%%%%%%\n",
      "                    %%%%%%%%%%%%%%%%%%%%%%%%%%%%%%%%%%%%%%\n",
      "                   %%%%%%%%%%%%%%%%%%%%%%%%%%%%%%%%%%%%%%%%\n",
      "                                    %%%%%%%%%%%%%%%%%%%%%%%%\n",
      "                                     %%%%%%%%%%%%%%%%%%%%%%%%\n",
      "                 ###############      %%%%%%%%%%%%%%%%%%%%%%%%\n",
      "                ##################     %%%%%%%%%%%%%%%%%%%%%%%\n",
      "                ###################     %%%%%%%%%%%%%%%%%%%%%%%\n",
      "                ####################     %%%%%%%%%%%%%%%%%%%%%%\n",
      "                #####################     %%%%%%%%%%%%%%%%%%%%%\n",
      "                ######################     %%%%%%%%%%%%%%%%%%%%\n",
      "                #######################     %%%%%%%%%%%%%%%%%%\n",
      "                 #######################     %%%%%%%%%%%%%%%%%\n",
      "                 ######################     %%%%%%%%%%%%%%%%%\n",
      "                  ####################     %%%%%%%%%%%%%%%%%\n",
      "                    #################     %%%%%%%%%%%%%%%%%\n",
      "                     ###############     %%%%%%%%%%%%%%%%\n",
      "                       ############     %%%%%%%%%%%%%%%\n",
      "                          ########     %%%%%%%%%%%%%%\n",
      "                                      %%%%%%%%%%%\n",
      "\n",
      "                 | The OpenMC Monte Carlo Code\n",
      "       Copyright | 2011-2022 MIT, UChicago Argonne LLC, and contributors\n",
      "         License | https://docs.openmc.org/en/latest/license.html\n",
      "         Version | 0.13.2\n",
      "        Git SHA1 | 55915edb100cb7f3bd499b86b8b2d3d547e54377\n",
      "       Date/Time | 2022-12-22 11:45:02\n",
      "   MPI Processes | 1\n",
      "  OpenMP Threads | 8\n",
      "\n",
      " Reading settings XML file...\n",
      " ERROR: No cross_sections.xml file was specified in materials.xml or in the\n",
      "        OPENMC_CROSS_SECTIONS environment variable. OpenMC needs such a file to\n",
      "        identify where to find data libraries. Please consult the user's guide\n",
      "        at https://docs.openmc.org/ for information on how to set up data\n",
      "        libraries.\n",
      "--------------------------------------------------------------------------\n",
      "MPI_ABORT was invoked on rank 0 in communicator MPI_COMM_WORLD\n",
      "with errorcode -1.\n",
      "\n",
      "NOTE: invoking MPI_ABORT causes Open MPI to kill all MPI processes.\n",
      "You may or may not see output from other processes, depending on\n",
      "exactly when Open MPI kills them.\n",
      "--------------------------------------------------------------------------\n"
     ]
    },
    {
     "ename": "RuntimeError",
     "evalue": "No cross_sections.xml file was specified in materials.xml or in the OPENMC_CROSS_SECTIONS environment variable. OpenMC needs such a file to identify where to find data libraries. Please consult the user's guide at https://docs.openmc.org/ for information on how to set up data libraries. -------------------------------------------------------------------------- MPI_ABORT was invoked on rank 0 in communicator MPI_COMM_WORLD with errorcode -1. NOTE: invoking MPI_ABORT causes Open MPI to kill all MPI processes. You may or may not see output from other processes, depending on exactly when Open MPI kills them. --------------------------------------------------------------------------",
     "output_type": "error",
     "traceback": [
      "\u001b[0;31m---------------------------------------------------------------------------\u001b[0m",
      "\u001b[0;31mRuntimeError\u001b[0m                              Traceback (most recent call last)",
      "Cell \u001b[0;32mIn[36], line 6\u001b[0m\n\u001b[1;32m      3\u001b[0m settings\u001b[38;5;241m.\u001b[39mexport_to_xml()\n\u001b[1;32m      4\u001b[0m tallies\u001b[38;5;241m.\u001b[39mexport_to_xml()\n\u001b[0;32m----> 6\u001b[0m \u001b[43mopenmc\u001b[49m\u001b[38;5;241;43m.\u001b[39;49m\u001b[43mrun\u001b[49m\u001b[43m(\u001b[49m\u001b[43m)\u001b[49m\n",
      "File \u001b[0;32m~/anaconda3/envs/openmc-env/lib/python3.11/site-packages/openmc/executor.py:280\u001b[0m, in \u001b[0;36mrun\u001b[0;34m(particles, threads, geometry_debug, restart_file, tracks, output, cwd, openmc_exec, mpi_args, event_based)\u001b[0m\n\u001b[1;32m    234\u001b[0m \u001b[38;5;124;03m\"\"\"Run an OpenMC simulation.\u001b[39;00m\n\u001b[1;32m    235\u001b[0m \n\u001b[1;32m    236\u001b[0m \u001b[38;5;124;03mParameters\u001b[39;00m\n\u001b[0;32m   (...)\u001b[0m\n\u001b[1;32m    272\u001b[0m \n\u001b[1;32m    273\u001b[0m \u001b[38;5;124;03m\"\"\"\u001b[39;00m\n\u001b[1;32m    275\u001b[0m args \u001b[38;5;241m=\u001b[39m _process_CLI_arguments(\n\u001b[1;32m    276\u001b[0m     volume\u001b[38;5;241m=\u001b[39m\u001b[38;5;28;01mFalse\u001b[39;00m, geometry_debug\u001b[38;5;241m=\u001b[39mgeometry_debug, particles\u001b[38;5;241m=\u001b[39mparticles,\n\u001b[1;32m    277\u001b[0m     restart_file\u001b[38;5;241m=\u001b[39mrestart_file, threads\u001b[38;5;241m=\u001b[39mthreads, tracks\u001b[38;5;241m=\u001b[39mtracks,\n\u001b[1;32m    278\u001b[0m     event_based\u001b[38;5;241m=\u001b[39mevent_based, openmc_exec\u001b[38;5;241m=\u001b[39mopenmc_exec, mpi_args\u001b[38;5;241m=\u001b[39mmpi_args)\n\u001b[0;32m--> 280\u001b[0m \u001b[43m_run\u001b[49m\u001b[43m(\u001b[49m\u001b[43margs\u001b[49m\u001b[43m,\u001b[49m\u001b[43m \u001b[49m\u001b[43moutput\u001b[49m\u001b[43m,\u001b[49m\u001b[43m \u001b[49m\u001b[43mcwd\u001b[49m\u001b[43m)\u001b[49m\n",
      "File \u001b[0;32m~/anaconda3/envs/openmc-env/lib/python3.11/site-packages/openmc/executor.py:118\u001b[0m, in \u001b[0;36m_run\u001b[0;34m(args, output, cwd)\u001b[0m\n\u001b[1;32m    115\u001b[0m     error_msg \u001b[38;5;241m=\u001b[39m \u001b[38;5;124m'\u001b[39m\u001b[38;5;124mOpenMC aborted unexpectedly.\u001b[39m\u001b[38;5;124m'\u001b[39m\n\u001b[1;32m    116\u001b[0m error_msg \u001b[38;5;241m=\u001b[39m \u001b[38;5;124m'\u001b[39m\u001b[38;5;124m \u001b[39m\u001b[38;5;124m'\u001b[39m\u001b[38;5;241m.\u001b[39mjoin(error_msg\u001b[38;5;241m.\u001b[39msplit())\n\u001b[0;32m--> 118\u001b[0m \u001b[38;5;28;01mraise\u001b[39;00m \u001b[38;5;167;01mRuntimeError\u001b[39;00m(error_msg)\n",
      "\u001b[0;31mRuntimeError\u001b[0m: No cross_sections.xml file was specified in materials.xml or in the OPENMC_CROSS_SECTIONS environment variable. OpenMC needs such a file to identify where to find data libraries. Please consult the user's guide at https://docs.openmc.org/ for information on how to set up data libraries. -------------------------------------------------------------------------- MPI_ABORT was invoked on rank 0 in communicator MPI_COMM_WORLD with errorcode -1. NOTE: invoking MPI_ABORT causes Open MPI to kill all MPI processes. You may or may not see output from other processes, depending on exactly when Open MPI kills them. --------------------------------------------------------------------------"
     ]
    }
   ],
   "source": [
    "materials.export_to_xml()\n",
    "geometry.export_to_xml()\n",
    "settings.export_to_xml()\n",
    "tallies.export_to_xml()\n",
    "\n",
    "openmc.run()"
   ]
  },
  {
   "cell_type": "markdown",
   "id": "f1d4ead8",
   "metadata": {},
   "source": [
    "## Problem 2\n",
    "This problem performs depletion"
   ]
  },
  {
   "cell_type": "code",
   "execution_count": 37,
   "id": "652fcccc",
   "metadata": {},
   "outputs": [],
   "source": [
    "import openmc.deplete as od"
   ]
  },
  {
   "cell_type": "code",
   "execution_count": 38,
   "id": "028c4022",
   "metadata": {},
   "outputs": [],
   "source": [
    "model = openmc.Model(geometry = geometry, materials = materials, settings = settings)"
   ]
  },
  {
   "cell_type": "code",
   "execution_count": 39,
   "id": "bf6a44d2",
   "metadata": {},
   "outputs": [
    {
     "ename": "OSError",
     "evalue": "Error reading file 'chain_simple.xml': failed to load external entity \"chain_simple.xml\"",
     "output_type": "error",
     "traceback": [
      "\u001b[0;31m---------------------------------------------------------------------------\u001b[0m",
      "\u001b[0;31mOSError\u001b[0m                                   Traceback (most recent call last)",
      "Cell \u001b[0;32mIn[39], line 1\u001b[0m\n\u001b[0;32m----> 1\u001b[0m microsxs \u001b[38;5;241m=\u001b[39m \u001b[43mod\u001b[49m\u001b[38;5;241;43m.\u001b[39;49m\u001b[43mMicroXS\u001b[49m\u001b[38;5;241;43m.\u001b[39;49m\u001b[43mfrom_model\u001b[49m\u001b[43m(\u001b[49m\u001b[43mmodel\u001b[49m\u001b[43m,\u001b[49m\u001b[43m \u001b[49m\u001b[43mu235\u001b[49m\u001b[43m,\u001b[49m\u001b[43m \u001b[49m\u001b[43mchain_file\u001b[49m\u001b[38;5;241;43m=\u001b[39;49m\u001b[38;5;124;43m\"\u001b[39;49m\u001b[38;5;124;43mchain_simple.xml\u001b[39;49m\u001b[38;5;124;43m\"\u001b[39;49m\u001b[43m)\u001b[49m\n",
      "File \u001b[0;32m~/anaconda3/envs/openmc-env/lib/python3.11/site-packages/openmc/deplete/microxs.py:78\u001b[0m, in \u001b[0;36mMicroXS.from_model\u001b[0;34m(cls, model, reaction_domain, chain_file, dilute_initial, energy_bounds, run_kwargs)\u001b[0m\n\u001b[1;32m     76\u001b[0m tallies \u001b[38;5;241m=\u001b[39m Tallies()\n\u001b[1;32m     77\u001b[0m xs \u001b[38;5;241m=\u001b[39m {}\n\u001b[0;32m---> 78\u001b[0m reactions, diluted_materials \u001b[38;5;241m=\u001b[39m \u001b[38;5;28;43mcls\u001b[39;49m\u001b[38;5;241;43m.\u001b[39;49m\u001b[43m_add_dilute_nuclides\u001b[49m\u001b[43m(\u001b[49m\u001b[43mchain_file\u001b[49m\u001b[43m,\u001b[49m\n\u001b[1;32m     79\u001b[0m \u001b[43m                                                        \u001b[49m\u001b[43mmodel\u001b[49m\u001b[43m,\u001b[49m\n\u001b[1;32m     80\u001b[0m \u001b[43m                                                        \u001b[49m\u001b[43mdilute_initial\u001b[49m\u001b[43m)\u001b[49m\n\u001b[1;32m     81\u001b[0m model\u001b[38;5;241m.\u001b[39mmaterials \u001b[38;5;241m=\u001b[39m diluted_materials\n\u001b[1;32m     83\u001b[0m \u001b[38;5;28;01mfor\u001b[39;00m rx \u001b[38;5;129;01min\u001b[39;00m reactions:\n",
      "File \u001b[0;32m~/anaconda3/envs/openmc-env/lib/python3.11/site-packages/openmc/deplete/microxs.py:153\u001b[0m, in \u001b[0;36mMicroXS._add_dilute_nuclides\u001b[0;34m(cls, chain_file, model, dilute_initial)\u001b[0m\n\u001b[1;32m    148\u001b[0m     \u001b[38;5;28;01mif\u001b[39;00m chain_file \u001b[38;5;129;01mis\u001b[39;00m \u001b[38;5;28;01mNone\u001b[39;00m:\n\u001b[1;32m    149\u001b[0m         \u001b[38;5;28;01mraise\u001b[39;00m DataError(\n\u001b[1;32m    150\u001b[0m             \u001b[38;5;124m\"\u001b[39m\u001b[38;5;124mNo depletion chain specified and could not find depletion \u001b[39m\u001b[38;5;124m\"\u001b[39m\n\u001b[1;32m    151\u001b[0m             \u001b[38;5;124m\"\u001b[39m\u001b[38;5;124mchain in openmc.config[\u001b[39m\u001b[38;5;124m'\u001b[39m\u001b[38;5;124mchain_file\u001b[39m\u001b[38;5;124m'\u001b[39m\u001b[38;5;124m]\u001b[39m\u001b[38;5;124m\"\u001b[39m\n\u001b[1;32m    152\u001b[0m         )\n\u001b[0;32m--> 153\u001b[0m chain \u001b[38;5;241m=\u001b[39m \u001b[43mChain\u001b[49m\u001b[38;5;241;43m.\u001b[39;49m\u001b[43mfrom_xml\u001b[49m\u001b[43m(\u001b[49m\u001b[43mchain_file\u001b[49m\u001b[43m)\u001b[49m\n\u001b[1;32m    154\u001b[0m reactions \u001b[38;5;241m=\u001b[39m chain\u001b[38;5;241m.\u001b[39mreactions\n\u001b[1;32m    155\u001b[0m cross_sections \u001b[38;5;241m=\u001b[39m _find_cross_sections(model)\n",
      "File \u001b[0;32m~/anaconda3/envs/openmc-env/lib/python3.11/site-packages/openmc/deplete/chain.py:543\u001b[0m, in \u001b[0;36mChain.from_xml\u001b[0;34m(cls, filename, fission_q)\u001b[0m\n\u001b[1;32m    540\u001b[0m     fission_q \u001b[38;5;241m=\u001b[39m {}\n\u001b[1;32m    542\u001b[0m \u001b[38;5;66;03m# Load XML tree\u001b[39;00m\n\u001b[0;32m--> 543\u001b[0m root \u001b[38;5;241m=\u001b[39m \u001b[43mET\u001b[49m\u001b[38;5;241;43m.\u001b[39;49m\u001b[43mparse\u001b[49m\u001b[43m(\u001b[49m\u001b[38;5;28;43mstr\u001b[39;49m\u001b[43m(\u001b[49m\u001b[43mfilename\u001b[49m\u001b[43m)\u001b[49m\u001b[43m)\u001b[49m\n\u001b[1;32m    545\u001b[0m \u001b[38;5;28;01mfor\u001b[39;00m i, nuclide_elem \u001b[38;5;129;01min\u001b[39;00m \u001b[38;5;28menumerate\u001b[39m(root\u001b[38;5;241m.\u001b[39mfindall(\u001b[38;5;124m'\u001b[39m\u001b[38;5;124mnuclide\u001b[39m\u001b[38;5;124m'\u001b[39m)):\n\u001b[1;32m    546\u001b[0m     this_q \u001b[38;5;241m=\u001b[39m fission_q\u001b[38;5;241m.\u001b[39mget(nuclide_elem\u001b[38;5;241m.\u001b[39mget(\u001b[38;5;124m\"\u001b[39m\u001b[38;5;124mname\u001b[39m\u001b[38;5;124m\"\u001b[39m))\n",
      "File \u001b[0;32msrc/lxml/etree.pyx:3541\u001b[0m, in \u001b[0;36mlxml.etree.parse\u001b[0;34m()\u001b[0m\n",
      "File \u001b[0;32msrc/lxml/parser.pxi:1879\u001b[0m, in \u001b[0;36mlxml.etree._parseDocument\u001b[0;34m()\u001b[0m\n",
      "File \u001b[0;32msrc/lxml/parser.pxi:1905\u001b[0m, in \u001b[0;36mlxml.etree._parseDocumentFromURL\u001b[0;34m()\u001b[0m\n",
      "File \u001b[0;32msrc/lxml/parser.pxi:1808\u001b[0m, in \u001b[0;36mlxml.etree._parseDocFromFile\u001b[0;34m()\u001b[0m\n",
      "File \u001b[0;32msrc/lxml/parser.pxi:1180\u001b[0m, in \u001b[0;36mlxml.etree._BaseParser._parseDocFromFile\u001b[0;34m()\u001b[0m\n",
      "File \u001b[0;32msrc/lxml/parser.pxi:618\u001b[0m, in \u001b[0;36mlxml.etree._ParserContext._handleParseResultDoc\u001b[0;34m()\u001b[0m\n",
      "File \u001b[0;32msrc/lxml/parser.pxi:728\u001b[0m, in \u001b[0;36mlxml.etree._handleParseResult\u001b[0;34m()\u001b[0m\n",
      "File \u001b[0;32msrc/lxml/parser.pxi:655\u001b[0m, in \u001b[0;36mlxml.etree._raiseParseError\u001b[0;34m()\u001b[0m\n",
      "\u001b[0;31mOSError\u001b[0m: Error reading file 'chain_simple.xml': failed to load external entity \"chain_simple.xml\""
     ]
    }
   ],
   "source": [
    "microsxs = od.MicroXS.from_model(model, u235, chain_file=\"chain_simple.xml\")\n",
    "ind_op = od.IndependentOperator(materials, microxs, chain_file = \"chain_simple.xml\")"
   ]
  },
  {
   "cell_type": "code",
   "execution_count": null,
   "id": "a229bd07",
   "metadata": {},
   "outputs": [],
   "source": []
  }
 ],
 "metadata": {
  "kernelspec": {
   "display_name": "Python 3 (ipykernel)",
   "language": "python",
   "name": "python3"
  },
  "language_info": {
   "codemirror_mode": {
    "name": "ipython",
    "version": 3
   },
   "file_extension": ".py",
   "mimetype": "text/x-python",
   "name": "python",
   "nbconvert_exporter": "python",
   "pygments_lexer": "ipython3",
   "version": "3.11.0"
  }
 },
 "nbformat": 4,
 "nbformat_minor": 5
}
