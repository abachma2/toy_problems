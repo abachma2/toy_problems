{
 "cells": [
  {
   "cell_type": "markdown",
   "metadata": {},
   "source": [
    "# Plotting the commissioning and decommissiong of facilities"
   ]
  },
  {
   "cell_type": "code",
   "execution_count": 6,
   "metadata": {},
   "outputs": [],
   "source": [
    "import cymetric as cym\n",
    "import pandas as pd\n",
    "import numpy as np\n",
    "import matplotlib.pyplot as plt\n",
    "%matplotlib inline"
   ]
  },
  {
   "cell_type": "code",
   "execution_count": null,
   "metadata": {},
   "outputs": [],
   "source": [
    "db = cym.dbopen('recycle.sqlite')\n",
    "evaler = cym.Evaluator(db)\n",
    "comm = evaler.eval('CommissioningSeries')\n",
    "decomm = evaler.eval('DecommissioningSeries')"
   ]
  },
  {
   "cell_type": "code",
   "execution_count": null,
   "metadata": {},
   "outputs": [],
   "source": [
    "#make exit counts negative for plotting purposes\n",
    "neg = -decomm['Count']\n",
    "decomm = decomm.drop('Count',axis=1)\n",
    "decomm = pd.concat([decomm, neg],axis=1)"
   ]
  },
  {
   "cell_type": "code",
   "execution_count": null,
   "metadata": {},
   "outputs": [],
   "source": [
    "#Renaming time columns for later merging\n",
    "comm.rename(columns={'EnterTime':'Time'})\n",
    "decomm.rename(colums={'ExitTime':'Time'})"
   ]
  },
  {
   "cell_type": "code",
   "execution_count": null,
   "metadata": {},
   "outputs": [],
   "source": [
    "#Pivoting tables for plotting, then merging tables\n",
    "c = comm.pivot('Time','Prototype')['Count'].reset_index()\n",
    "d = decomm.pivot('Time','Prototype')['Count'].reset_index()\n",
    "cd = pd.merge(c,d,left_on='Time',right_on='Time',how='outer',sort=True,suffixes=('_enter','_exit')).fillna(0)\n",
    "\n",
    "#Pandas changes everything to floats in the presence of NaN, change the TimeStep column back to integer\n",
    "cd.Time = cd.Time.astype(int)"
   ]
  },
  {
   "cell_type": "code",
   "execution_count": null,
   "metadata": {},
   "outputs": [],
   "source": [
    "#only plot facilities of interest: lwr and frx\n",
    "colors = ['green','purple']\n",
    "ax = cd[['Time','lwr_enter','frx_enter']].plot.bar(x='Time',figsize=(30,10),stacked=True,width=1,legend=False \\\n",
    "                color=colors)\n",
    "l = plt.legend()\n",
    "l.get_texts()[0].set_text('LWR')\n",
    "l.get_texts()[1].set_text('FR')\n",
    "l.set_title('Prototype')\n",
    "cd[['Time','lwr_exit','frx_exit']].plot.bar(x='Time',figsize=(30,10),stacked=True,width=1,legend=False \\\n",
    "                color=colors)\n",
    "plt.xlabel(r'Timestep',fontsize=18); plt.ylabel(r'Count',fontsize=18)\n",
    "plt.show()"
   ]
  }
 ],
 "metadata": {
  "kernelspec": {
   "display_name": "Python 3",
   "language": "python",
   "name": "python3"
  },
  "language_info": {
   "codemirror_mode": {
    "name": "ipython",
    "version": 3
   },
   "file_extension": ".py",
   "mimetype": "text/x-python",
   "name": "python",
   "nbconvert_exporter": "python",
   "pygments_lexer": "ipython3",
   "version": "3.7.6"
  }
 },
 "nbformat": 4,
 "nbformat_minor": 4
}
