{
 "cells": [
  {
   "cell_type": "code",
   "execution_count": 1,
   "metadata": {},
   "outputs": [],
   "source": [
    "import numpy as np\n",
    "import pandas as pd\n",
    "import cymetric as cym\n",
    "import matplotlib.pyplot as plt"
   ]
  },
  {
   "cell_type": "code",
   "execution_count": 2,
   "metadata": {},
   "outputs": [],
   "source": [
    "import sys\n",
    "sys.path.insert(0, '../../transition-scenarios/scripts/')\n",
    "import transition_metrics as tm"
   ]
  },
  {
   "cell_type": "markdown",
   "metadata": {},
   "source": [
    "## Looking at simple toy problem with d3ploy\n",
    "Toy problem has LWRs deployed using cycamore:DeployInst, then the Advanced Reactors \n",
    "are deployed using d3ploy.demand_driven_inst. The defined energy demand for the scenario is \n",
    "np.heaviside(t-50, 0.5)*300, or a demand of 0 until time step 500, then a demand of 300. \n",
    "\n",
    "LWRs are deployed:\n",
    "* 1 at t=1\n",
    "* 2 at t=100\n",
    "* 1 at t=200\n",
    "* 2 at t=300\n",
    "* 1 at t=350\n",
    "* 1 at t=400.\n",
    "\n",
    "Each LWR supplies 100 MWe of power, each AdvancedReactor supplies 75 MWe of power. LWRs\n",
    "have a lifetime of 240 timesteps, cycle time of 18, and refule of 1 step. \n",
    "AdvancedReactors have a lifetime of 140 timesteps, a cycle length of 24 \n",
    "months, and a refueling of 1 step. \n",
    "The simulation runs for 1000 time steps.\n"
   ]
  },
  {
   "cell_type": "code",
   "execution_count": 3,
   "metadata": {},
   "outputs": [],
   "source": [
    "def get_lwr_energy(filename, advanced_rx):\n",
    "    evaler = tm.get_metrics(filename)\n",
    "    agents = evaler.eval('Agents')\n",
    "    energy = evaler.eval('MonthlyElectricityGeneratedByAgent')\n",
    "    #energy = cym.tools.add_missing_time_step(energy, evaler.eval('TimeList'))\n",
    "    merged_df = pd.merge(energy, agents, on=['SimId', 'AgentId'])\n",
    "    lwr_energy = merged_df.loc[merged_df['Prototype'] != advanced_rx]\n",
    "    lwr_energy = lwr_energy.groupby(['Month']).Energy.sum().reset_index()\n",
    "    lwr_energy['Energy'] = lwr_energy['Energy'] / 1000\n",
    "    return lwr_energy\n",
    "\n",
    "def get_prototype_energy(filename, advanced_rx):\n",
    "    evaler = tm.get_metrics(filename)\n",
    "    agents = evaler.eval('Agents')\n",
    "    energy = evaler.eval('MonthlyElectricityGeneratedByAgent')\n",
    "    merged_df = pd.merge(energy, agents, on=['SimId', 'AgentId'])\n",
    "    prototype_energy = merged_df.loc[merged_df['Prototype'] == advanced_rx]\n",
    "    prototype_energy = prototype_energy.groupby(\n",
    "        ['Month']).Energy.sum().reset_index()\n",
    "    prototype_energy['Energy'] = prototype_energy['Energy'] / 1000\n",
    "    return prototype_energy"
   ]
  },
  {
   "cell_type": "code",
   "execution_count": 16,
   "metadata": {},
   "outputs": [],
   "source": [
    "out_file = \"d3ploy_test.sqlite\""
   ]
  },
  {
   "cell_type": "code",
   "execution_count": 18,
   "metadata": {},
   "outputs": [
    {
     "data": {
      "text/plain": [
       "Text(0, 0.5, 'Energy (GWe-month)')"
      ]
     },
     "execution_count": 18,
     "metadata": {},
     "output_type": "execute_result"
    },
    {
     "data": {
      "image/png": "[encoded data removed]",
      "text/plain": [
       "<Figure size 432x288 with 1 Axes>"
      ]
     },
     "metadata": {
      "needs_background": "light"
     },
     "output_type": "display_data"
    }
   ],
   "source": [
    "energy = tm.get_monthly_electricity(out_file)\n",
    "lwr_energy = get_lwr_energy(out_file, 'AdvancedReactor')\n",
    "AR_energy = get_prototype_energy(out_file, 'AdvancedReactor')\n",
    "plt.plot((energy['Year']-1965)*12, energy['Energy'], label='Total')\n",
    "plt.plot(lwr_energy['Month'], lwr_energy['Energy'], label='LWR')\n",
    "plt.plot(AR_energy['Month'], AR_energy['Energy'], label='AR')\n",
    "t = np.linspace(0, 999, 1000)\n",
    "plt.plot(t, np.repeat(0.1,1000), 'k', label='Demand')\n",
    "plt.legend()\n",
    "plt.xlabel('Time')\n",
    "plt.ylabel('Energy (GWe-month)')"
   ]
  },
  {
   "cell_type": "code",
   "execution_count": 20,
   "metadata": {},
   "outputs": [
    {
     "data": {
      "text/html": [
       "<div>\n",
       "<style scoped>\n",
       "    .dataframe tbody tr th:only-of-type {\n",
       "        vertical-align: middle;\n",
       "    }\n",
       "\n",
       "    .dataframe tbody tr th {\n",
       "        vertical-align: top;\n",
       "    }\n",
       "\n",
       "    .dataframe thead th {\n",
       "        text-align: right;\n",
       "    }\n",
       "</style>\n",
       "<table border=\"1\" class=\"dataframe\">\n",
       "  <thead>\n",
       "    <tr style=\"text-align: right;\">\n",
       "      <th></th>\n",
       "      <th>Month</th>\n",
       "      <th>Energy</th>\n",
       "    </tr>\n",
       "  </thead>\n",
       "  <tbody>\n",
       "    <tr>\n",
       "      <th>0</th>\n",
       "      <td>1</td>\n",
       "      <td>0.1</td>\n",
       "    </tr>\n",
       "    <tr>\n",
       "      <th>1</th>\n",
       "      <td>2</td>\n",
       "      <td>0.1</td>\n",
       "    </tr>\n",
       "    <tr>\n",
       "      <th>2</th>\n",
       "      <td>3</td>\n",
       "      <td>0.1</td>\n",
       "    </tr>\n",
       "    <tr>\n",
       "      <th>3</th>\n",
       "      <td>4</td>\n",
       "      <td>0.1</td>\n",
       "    </tr>\n",
       "    <tr>\n",
       "      <th>4</th>\n",
       "      <td>5</td>\n",
       "      <td>0.1</td>\n",
       "    </tr>\n",
       "    <tr>\n",
       "      <th>5</th>\n",
       "      <td>6</td>\n",
       "      <td>0.1</td>\n",
       "    </tr>\n",
       "    <tr>\n",
       "      <th>6</th>\n",
       "      <td>7</td>\n",
       "      <td>0.1</td>\n",
       "    </tr>\n",
       "    <tr>\n",
       "      <th>7</th>\n",
       "      <td>8</td>\n",
       "      <td>0.1</td>\n",
       "    </tr>\n",
       "    <tr>\n",
       "      <th>8</th>\n",
       "      <td>9</td>\n",
       "      <td>0.1</td>\n",
       "    </tr>\n",
       "    <tr>\n",
       "      <th>9</th>\n",
       "      <td>10</td>\n",
       "      <td>0.1</td>\n",
       "    </tr>\n",
       "  </tbody>\n",
       "</table>\n",
       "</div>"
      ],
      "text/plain": [
       "   Month  Energy\n",
       "0      1     0.1\n",
       "1      2     0.1\n",
       "2      3     0.1\n",
       "3      4     0.1\n",
       "4      5     0.1\n",
       "5      6     0.1\n",
       "6      7     0.1\n",
       "7      8     0.1\n",
       "8      9     0.1\n",
       "9     10     0.1"
      ]
     },
     "execution_count": 20,
     "metadata": {},
     "output_type": "execute_result"
    }
   ],
   "source": [
    "lwr_energy[0:10]"
   ]
  },
  {
   "cell_type": "markdown",
   "metadata": {},
   "source": [
    "Starting at "
   ]
  },
  {
   "cell_type": "code",
   "execution_count": 13,
   "metadata": {},
   "outputs": [
    {
     "data": {
      "text/plain": [
       "Text(0, 0.5, 'Number of Reactors')"
      ]
     },
     "execution_count": 13,
     "metadata": {},
     "output_type": "execute_result"
    },
    {
     "data": {
      "image/png": "[encoded data removed]",
      "text/plain": [
       "<Figure size 432x288 with 1 Axes>"
      ]
     },
     "metadata": {
      "needs_background": "light"
     },
     "output_type": "display_data"
    }
   ],
   "source": [
    "non_lwr = ['source', 'sink', 'AdvancedReactor', \n",
    "               'LWRDeployment', 'sink_source_facilities',\n",
    "               'SingleRegion', 'source_inst']\n",
    "reactors = tm.rx_commission_decommission(out_file, non_lwr)\n",
    "advrx_numbers = tm.prototype_totals(out_file, non_lwr, ['AdvancedReactor'])\n",
    "plt.plot(reactors['Time'], reactors['lwr_total'], label=('LWR'))\n",
    "plt.plot(advrx_numbers['Time'], advrx_numbers['AdvancedReactor_total'], label='AR')\n",
    "plt.legend()\n",
    "plt.xlabel('Month')\n",
    "plt.ylabel('Number of Reactors')"
   ]
  },
  {
   "cell_type": "markdown",
   "metadata": {},
   "source": [
    "At the end, there are 7 AdvancedReactors deployed, which can produce a total of 525 MWe. \n",
    "This leads to the large oversupply of energy."
   ]
  },
  {
   "cell_type": "code",
   "execution_count": null,
   "metadata": {},
   "outputs": [],
   "source": []
  },
  {
   "cell_type": "code",
   "execution_count": null,
   "metadata": {},
   "outputs": [],
   "source": []
  },
  {
   "cell_type": "markdown",
   "metadata": {},
   "source": [
    "## Comparing d3ploy to ManagerInst"
   ]
  },
  {
   "cell_type": "code",
   "execution_count": 3,
   "metadata": {},
   "outputs": [],
   "source": [
    "manager_inst_file = \"../../transition-scenarios/input/haleu/outputs/xe100_nogrowth.sqlite\"\n",
    "d3ploy_file = \"xe100_d3ploy.sqlite\""
   ]
  },
  {
   "cell_type": "code",
   "execution_count": 4,
   "metadata": {},
   "outputs": [],
   "source": [
    "non_lwr = ['Sink_HLW', 'Sink_LLW', 'Mine', 'Mill', 'Conversion',\n",
    "                 'Enrichment', 'FuelFab', 'DryStorage', 'United States',\n",
    "                 'WetStorage', 'FuelCycle', 'UNITED_STATES_OF_AMERICA',\n",
    "                 'Xe-100', ]\n",
    "manager_inst_reactors = tm.prototype_totals(manager_inst_file, non_lwr, ['Xe-100'])\n",
    "d3ploy_reactors = tm.prototype_totals(d3ploy_file, non_lwr, ['Xe-100'])"
   ]
  },
  {
   "cell_type": "code",
   "execution_count": 16,
   "metadata": {},
   "outputs": [
    {
     "data": {
      "image/png": "[encoded data removed]",
      "text/plain": [
       "<Figure size 432x288 with 1 Axes>"
      ]
     },
     "metadata": {
      "needs_background": "light"
     },
     "output_type": "display_data"
    }
   ],
   "source": [
    "plt.plot(manager_inst_reactors['Time'], manager_inst_reactors['Xe-100_total'], label='ManagerInst')\n",
    "plt.plot(d3ploy_reactors['Time'], d3ploy_reactors['Xe-100_total'], label='d3ploy')\n",
    "plt.legend()\n",
    "plt.xlabel('Time')\n",
    "plt.ylabel('Number of Reactors')\n",
    "plt.yscale('log')\n",
    "plt.savefig('s3_reactor_comparison.png')"
   ]
  },
  {
   "cell_type": "code",
   "execution_count": 19,
   "metadata": {},
   "outputs": [
    {
     "data": {
      "text/plain": [
       "3561.2625"
      ]
     },
     "execution_count": 19,
     "metadata": {},
     "output_type": "execute_result"
    }
   ],
   "source": [
    "d3ploy_energy['Energy'].max()"
   ]
  },
  {
   "cell_type": "code",
   "execution_count": 11,
   "metadata": {},
   "outputs": [],
   "source": [
    "#manager_inst_energy = tm.get_annual_electricity(manager_inst_file)\n",
    "d3ploy_energy = tm.get_annual_electricity(d3ploy_file)"
   ]
  },
  {
   "cell_type": "code",
   "execution_count": 17,
   "metadata": {},
   "outputs": [
    {
     "data": {
      "image/png": "[encoded data removed]",
      "text/plain": [
       "<Figure size 432x288 with 1 Axes>"
      ]
     },
     "metadata": {
      "needs_background": "light"
     },
     "output_type": "display_data"
    }
   ],
   "source": [
    "plt.plot((manager_inst_energy['Year']-1965)*12, manager_inst_energy['Energy'], label='ManagerInst')\n",
    "plt.plot(np.linspace(721, 1500, 50), np.repeat(91.818, 50),'k', label='Demand')\n",
    "plt.plot((d3ploy_energy['Year']-1965)*12, d3ploy_energy['Energy'], label='d3ploy')\n",
    "plt.legend()\n",
    "plt.yscale('log')\n",
    "plt.xlabel('Time')\n",
    "plt.ylabel('Energy (GWe-yr)')\n",
    "plt.savefig('s3_energy_comparison.png')"
   ]
  },
  {
   "cell_type": "markdown",
   "metadata": {},
   "source": [
    "## Inputs from d3ploy repo"
   ]
  },
  {
   "cell_type": "code",
   "execution_count": null,
   "metadata": {},
   "outputs": [],
   "source": []
  }
 ],
 "metadata": {
  "kernelspec": {
   "display_name": "Python 3",
   "language": "python",
   "name": "python3"
  },
  "language_info": {
   "codemirror_mode": {
    "name": "ipython",
    "version": 3
   },
   "file_extension": ".py",
   "mimetype": "text/x-python",
   "name": "python",
   "nbconvert_exporter": "python",
   "pygments_lexer": "ipython3",
   "version": "3.6.11"
  }
 },
 "nbformat": 4,
 "nbformat_minor": 4
}
